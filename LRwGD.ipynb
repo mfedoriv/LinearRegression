{
 "cells": [
  {
   "cell_type": "code",
   "execution_count": 1,
   "metadata": {},
   "outputs": [],
   "source": [
    "import numpy as np\n",
    "import pandas as pd\n",
    "\n",
    "from sklearn import metrics\n",
    "from matplotlib import pyplot as plt\n",
    "from sklearn.model_selection import train_test_split"
   ]
  },
  {
   "cell_type": "code",
   "execution_count": 2,
   "metadata": {},
   "outputs": [],
   "source": [
    "train_features = np.array(pd.read_csv('data/train_features_0020.csv', header=None, index_col=False))\n",
    "train_labels = np.array(pd.read_csv('data/train_labels_0020.csv', header=None, index_col=False))\n",
    "test_features = np.array(pd.read_csv('data/test_features_0020.csv', header=None, index_col=False))"
   ]
  },
  {
   "cell_type": "code",
   "execution_count": 3,
   "metadata": {},
   "outputs": [
    {
     "data": {
      "image/png": "[encoded data removed]",
      "text/plain": [
       "<Figure size 864x648 with 1 Axes>"
      ]
     },
     "metadata": {
      "needs_background": "light"
     },
     "output_type": "display_data"
    }
   ],
   "source": [
    "plt.rcParams[\"figure.figsize\"] = (12,9)\n",
    "plt.figure()\n",
    "plt.grid()\n",
    "plt.plot(train_features, train_labels, 'bo', label='Train', markersize=5);"
   ]
  },
  {
   "cell_type": "markdown",
   "metadata": {},
   "source": [
    "Судя по форме графика, можно сказать, что это показательная функция, зависимость которой высчитывается по формуле\n",
    "$$y = a^x$$"
   ]
  },
  {
   "cell_type": "code",
   "execution_count": 4,
   "metadata": {},
   "outputs": [
    {
     "data": {
      "image/png": "[encoded data removed]",
      "text/plain": [
       "<Figure size 864x648 with 1 Axes>"
      ]
     },
     "metadata": {
      "needs_background": "light"
     },
     "output_type": "display_data"
    }
   ],
   "source": [
    "line_x = np.linspace(0, 5, num=70)\n",
    "line_y = np.array(np.power(2, line_x))\n",
    "plt.grid()\n",
    "plt.plot(line_x, line_y, 'go', label='Train', markersize=5);"
   ]
  },
  {
   "cell_type": "markdown",
   "metadata": {},
   "source": [
    "Для предсказания нелинейных зависимостей добавим фиктивные признаки"
   ]
  },
  {
   "cell_type": "code",
   "execution_count": 5,
   "metadata": {},
   "outputs": [],
   "source": [
    "x_train = np.hstack((np.array(np.power(2, train_features)),\n",
    "                     train_features,\n",
    "                     train_features ** 0))"
   ]
  },
  {
   "cell_type": "code",
   "execution_count": 6,
   "metadata": {},
   "outputs": [],
   "source": [
    "x_test = np.hstack((np.array(np.power(2, test_features)),\n",
    "                    test_features,\n",
    "                    test_features ** 0))"
   ]
  },
  {
   "cell_type": "markdown",
   "metadata": {},
   "source": [
    "Сформируем вектор-столбец со случайными значениями весов $\\theta$ по количеству признаков"
   ]
  },
  {
   "cell_type": "code",
   "execution_count": 7,
   "metadata": {},
   "outputs": [],
   "source": [
    "theta = np.random.rand(x_train.shape[1]).reshape((x_train.shape[1], 1))"
   ]
  },
  {
   "cell_type": "code",
   "execution_count": 8,
   "metadata": {},
   "outputs": [
    {
     "data": {
      "text/plain": [
       "array([[0.62554089],\n",
       "       [0.74844854],\n",
       "       [0.75094871]])"
      ]
     },
     "execution_count": 8,
     "metadata": {},
     "output_type": "execute_result"
    }
   ],
   "source": [
    "theta"
   ]
  },
  {
   "cell_type": "markdown",
   "metadata": {},
   "source": [
    "Для оценки качества предсказания используем коэффициент детерминации\n",
    "$$R^2 = 1 - \\frac{\\sum (y^{(i)} - \\hat y^{(i)})^2}{\\sum (y^{(i)} - \\bar y^{(i)})^2}$$"
   ]
  },
  {
   "cell_type": "code",
   "execution_count": 19,
   "metadata": {},
   "outputs": [],
   "source": [
    "r2 = 0\n",
    "alpha = 1e-5\n",
    "steps = int(1e5)\n",
    "r2_bound = 0.995"
   ]
  },
  {
   "cell_type": "code",
   "execution_count": 20,
   "metadata": {},
   "outputs": [
    {
     "data": {
      "text/plain": [
       "100000"
      ]
     },
     "execution_count": 20,
     "metadata": {},
     "output_type": "execute_result"
    }
   ],
   "source": [
    "steps"
   ]
  },
  {
   "cell_type": "markdown",
   "metadata": {},
   "source": [
    "## Градиентный спуск\n",
    "Алгоритм для поиска оптимальных параметров $\\theta$."
   ]
  },
  {
   "cell_type": "markdown",
   "metadata": {},
   "source": [
    "Внутри цикла $\\bar\\theta$ вычисляется следующим образом:\n",
    "$\\bar\\theta^{(t)} = \\bar\\theta^{(t-1)} - \\alpha \\cdot \\frac{1}{n}\\left(X^T X \\bar\\theta - X^T \\bar y\\right)$"
   ]
  },
  {
   "cell_type": "code",
   "execution_count": 21,
   "metadata": {},
   "outputs": [
    {
     "name": "stdout",
     "output_type": "stream",
     "text": [
      " 0.9968264171115053"
     ]
    }
   ],
   "source": [
    "x_train_split, x_test_split, y_train_split, y_test_split = train_test_split(x_train, train_labels, test_size=0.2)\n",
    "while r2 < r2_bound:\n",
    "    for t in range(steps):\n",
    "        theta -= alpha * (1 / x_train_split.shape[0]) * (x_train_split.transpose().dot(x_train_split).dot(theta)\n",
    "                                                    - x_train_split.transpose().dot(y_train_split))\n",
    "\n",
    "    y_test_labels = x_test_split.dot(theta)\n",
    "    r2 = metrics.r2_score(y_test_split, y_test_labels)\n",
    "    print('\\r', r2, end='')"
   ]
  },
  {
   "cell_type": "markdown",
   "metadata": {},
   "source": [
    "На основе полученных на предыдущем шаге весов $\\theta$ получаем предсказание для тестовых данных"
   ]
  },
  {
   "cell_type": "code",
   "execution_count": 22,
   "metadata": {},
   "outputs": [],
   "source": [
    "test_labels = x_test.dot(theta)\n",
    "train_test_labels = x_train.dot(theta)\n",
    "pd.DataFrame(test_labels).to_csv('lab1.csv', header=False, index=False)"
   ]
  },
  {
   "cell_type": "code",
   "execution_count": 23,
   "metadata": {},
   "outputs": [
    {
     "data": {
      "text/plain": [
       "<matplotlib.legend.Legend at 0x12e4f075cd0>"
      ]
     },
     "execution_count": 23,
     "metadata": {},
     "output_type": "execute_result"
    },
    {
     "data": {
      "image/png": "[encoded data removed]",
      "text/plain": [
       "<Figure size 864x648 with 1 Axes>"
      ]
     },
     "metadata": {
      "needs_background": "light"
     },
     "output_type": "display_data"
    }
   ],
   "source": [
    "plt.figure()\n",
    "plt.plot(train_features, train_labels, 'mo', label='Train', markersize=5)\n",
    "plt.plot(train_features, train_test_labels, 'r.', label='Train prediction', markersize=5)\n",
    "plt.plot(test_features, test_labels, 'y*', label='Test', markersize=8)\n",
    "plt.grid()\n",
    "plt.legend()"
   ]
  }
 ],
 "metadata": {
  "kernelspec": {
   "display_name": "Python 3",
   "language": "python",
   "name": "python3"
  },
  "language_info": {
   "codemirror_mode": {
    "name": "ipython",
    "version": 3
   },
   "file_extension": ".py",
   "mimetype": "text/x-python",
   "name": "python",
   "nbconvert_exporter": "python",
   "pygments_lexer": "ipython3",
   "version": "3.8.5"
  }
 },
 "nbformat": 4,
 "nbformat_minor": 4
}
